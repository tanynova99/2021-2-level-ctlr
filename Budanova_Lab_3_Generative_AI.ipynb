{
  "nbformat": 4,
  "nbformat_minor": 0,
  "metadata": {
    "colab": {
      "provenance": [],
      "authorship_tag": "ABX9TyPo+KK4o+M66x2bZVFzt8V9",
      "include_colab_link": true
    },
    "kernelspec": {
      "name": "python3",
      "display_name": "Python 3"
    },
    "language_info": {
      "name": "python"
    }
  },
  "cells": [
    {
      "cell_type": "markdown",
      "metadata": {
        "id": "view-in-github",
        "colab_type": "text"
      },
      "source": [
        "<a href=\"https://colab.research.google.com/github/tanynova99/2021-2-level-ctlr/blob/main/Budanova_Lab_3_Generative_AI.ipynb\" target=\"_parent\"><img src=\"https://colab.research.google.com/assets/colab-badge.svg\" alt=\"Open In Colab\"/></a>"
      ]
    },
    {
      "cell_type": "markdown",
      "source": [
        "# LAB 3 \"Генерация текста\"\n",
        "\n",
        "- Вам предстоит создать и обучить генеративную нейронную сеть, с применением RNN и механизма Attention.\n",
        "\n",
        "- Для генерации не допускается применять предобученные модели, использовать предобученные эмбеддинги можно.\n",
        "\n",
        "- Для обучения вы можете выбрать любой датасет (можно брать как из предыдущих лаб, так и предложить свой).  \n",
        "\n",
        "- После обучения модели вы должны написать функцию, которая принимает на вход необработанный текст и возвращает сгенерированное продолжение.\n",
        "\n",
        "- В EDA вы должны доказать, что ваш датасет подходит для обучения модели (например, тексты не содержат какие-то метаданные, как было в датасете с песнями во второй лабе) и предобработать до нужного состояния, если это требуется.\n",
        "\n",
        "- В выводах вы должны оценить качество генерируемых текстов: можете провести некоторый лингвистический анализ или оценить какими-нибудь метриками.\n",
        "\n",
        "*Выполнение всего вышеперечисленного дает вам оценку 8. Для 10 вы должны обучить несколько моделей с отличными гиперпараметрами (например, размер входного окна) и попытаться сравнить их качество.*\n",
        "\n",
        "*Для желающих есть усложненное задание: вместо RNN применить архитектуру трансформера.*\n",
        "\n",
        "**Дедлайн 18.02 23:59**\n",
        "\n",
        "- Сдавать сюда: https://forms.gle/P3iZ9MdyfmBW8gc67"
      ],
      "metadata": {
        "id": "BguTCdv0LL-4"
      }
    },
    {
      "cell_type": "code",
      "source": [
        "# !pip install pdfx"
      ],
      "metadata": {
        "id": "zZbf7Ih__yjZ"
      },
      "execution_count": null,
      "outputs": []
    },
    {
      "cell_type": "code",
      "source": [
        "# general imports\n",
        "from google.colab import drive\n",
        "import glob\n",
        "import numpy as np\n",
        "import re\n",
        "from html.parser import HTMLParser\n",
        "import tqdm\n",
        "import pandas as pd\n",
        "import pdfx\n",
        "\n",
        "drive.mount('/content/drive')\n",
        "\n",
        "# nn imports\n",
        "import matplotlib.pyplot as plt\n",
        "import seaborn as sns\n",
        "import random\n",
        "import tensorflow as tf\n",
        "from keras import Model\n",
        "from keras.layers import Layer\n",
        "import keras.backend as K\n",
        "from keras.layers import Input, Dense, GRU\n",
        "from sklearn.preprocessing import MinMaxScaler\n",
        "from keras.models import Sequential\n",
        "from keras.metrics import mean_squared_error"
      ],
      "metadata": {
        "colab": {
          "base_uri": "https://localhost:8080/"
        },
        "id": "X_SrAzsv6aur",
        "outputId": "eb3f5044-73e0-4a77-e0da-f8fde8112dd9"
      },
      "execution_count": null,
      "outputs": [
        {
          "output_type": "stream",
          "name": "stdout",
          "text": [
            "Drive already mounted at /content/drive; to attempt to forcibly remount, call drive.mount(\"/content/drive\", force_remount=True).\n"
          ]
        }
      ]
    },
    {
      "cell_type": "markdown",
      "source": [
        "# The data\n",
        "\n",
        "I picked Sartre's texts into the network for no apparent reason other than it sounds funny.\n",
        "\n",
        "In addition, that sort of data isn't overly spammed with useless text."
      ],
      "metadata": {
        "id": "OEuw919sTPPw"
      }
    },
    {
      "cell_type": "code",
      "execution_count": null,
      "metadata": {
        "id": "ywqYov6hJwQt",
        "colab": {
          "base_uri": "https://localhost:8080/",
          "height": 70
        },
        "outputId": "921a811c-e91f-4fbd-b4fc-43427bead440"
      },
      "outputs": [
        {
          "output_type": "execute_result",
          "data": {
            "text/plain": [
              "\"pdf_files = glob.glob('/content/drive/MyDrive/UNIVERSITY STUFF/нейросетки/3/sartre textes (en)/*.pdf')\\nraw_text = []\\n\\nfor filename in pdf_files[:1]:\\n  print(filename)\\n  pdf = pdfx.PDFx(filename)\\n  text = pdf.get_text()\\n  raw_text.append(text.split('.'))\\n\""
            ],
            "application/vnd.google.colaboratory.intrinsic+json": {
              "type": "string"
            }
          },
          "metadata": {},
          "execution_count": 53
        }
      ],
      "source": [
        "# uploading the txt data from my google drive into the pandas dataframe\n",
        "# resulted in low quality imput, found .txt instead\n",
        "\n",
        "'''pdf_files = glob.glob('/content/drive/MyDrive/UNIVERSITY STUFF/нейросетки/3/sartre textes (en)/*.pdf')\n",
        "raw_text = []\n",
        "\n",
        "for filename in pdf_files[:1]:\n",
        "  print(filename)\n",
        "  pdf = pdfx.PDFx(filename)\n",
        "  text = pdf.get_text()\n",
        "  raw_text.append(text.split('.'))\n",
        "'''"
      ]
    },
    {
      "cell_type": "code",
      "source": [
        "txt_files = glob.glob('/content/drive/MyDrive/UNIVERSITY STUFF/нейросетки/3/sartre textes (en)/*.txt')\n",
        "raw_text = []\n",
        "\n",
        "for filepath in txt_files:\n",
        "  f = open(filepath, \"r\")\n",
        "  print(filepath)\n",
        "  text = f.read()\n",
        "  text = text.split('\\n')\n",
        "  for i in text:\n",
        "    raw_text.append(i)"
      ],
      "metadata": {
        "colab": {
          "base_uri": "https://localhost:8080/"
        },
        "id": "D8D8v3c9MpK_",
        "outputId": "b653c57d-ce8d-4f05-9c8b-a8ca270d651a"
      },
      "execution_count": null,
      "outputs": [
        {
          "output_type": "stream",
          "name": "stdout",
          "text": [
            "/content/drive/MyDrive/UNIVERSITY STUFF/нейросетки/3/sartre textes (en)/Being and Nothingness An Essay on Phenomenological Ontology- Jean-Paul Sartre.txt\n",
            "/content/drive/MyDrive/UNIVERSITY STUFF/нейросетки/3/sartre textes (en)/Existentialism is a Humanism - Jean-Paul Sartre.txt\n",
            "/content/drive/MyDrive/UNIVERSITY STUFF/нейросетки/3/sartre textes (en)/The Imagination - Jean-Paul Sartre.txt\n",
            "/content/drive/MyDrive/UNIVERSITY STUFF/нейросетки/3/sartre textes (en)/What Is Subjectivity - Jean-Paul Sartre.txt\n",
            "/content/drive/MyDrive/UNIVERSITY STUFF/нейросетки/3/sartre textes (en)/Nausea - Jean-Paul Sartre.txt\n"
          ]
        }
      ]
    },
    {
      "cell_type": "code",
      "source": [
        "raw_text[:30]"
      ],
      "metadata": {
        "colab": {
          "base_uri": "https://localhost:8080/"
        },
        "id": "W2c4FMXsUMRU",
        "outputId": "9c159752-f9f2-4529-e2af-1b2bca09246f"
      },
      "execution_count": null,
      "outputs": [
        {
          "output_type": "execute_result",
          "data": {
            "text/plain": [
              "['\\ufeffTable of Contents',\n",
              " '',\n",
              " 'INTRODUCTION',\n",
              " '',\n",
              " 'The Pursuit of Being',\n",
              " '',\n",
              " 'PART ONE',\n",
              " '',\n",
              " 'THE PROBLEM OF NOTHINGNESS',\n",
              " '',\n",
              " 'Chapter One. The Origin of Negation',\n",
              " '',\n",
              " 'I. The Question',\n",
              " '',\n",
              " 'II. Negations',\n",
              " '',\n",
              " 'III. The Dialectical Concept of Nothingness',\n",
              " '',\n",
              " 'IV. The Phenomenological Concept of Nothingness',\n",
              " '',\n",
              " 'V. The Origin of Nothingness',\n",
              " '',\n",
              " 'Chapter Two. Bad Faith',\n",
              " '',\n",
              " 'I. Bad Faith and Falsehood',\n",
              " '',\n",
              " 'II. Patterns of Bad Faith',\n",
              " '',\n",
              " 'III. The “Faith” of Bad Faith',\n",
              " '']"
            ]
          },
          "metadata": {},
          "execution_count": 55
        }
      ]
    },
    {
      "cell_type": "markdown",
      "source": [
        "# EDA"
      ],
      "metadata": {
        "id": "fNoZWHyq5VPw"
      }
    },
    {
      "cell_type": "code",
      "source": [
        "# let's create a pandas dataframe\n",
        "\n",
        "df_raw = pd.DataFrame(raw_text, columns=['text'])"
      ],
      "metadata": {
        "id": "AdPQVH6v55b-"
      },
      "execution_count": null,
      "outputs": []
    },
    {
      "cell_type": "code",
      "source": [
        "df_raw.head(30)"
      ],
      "metadata": {
        "colab": {
          "base_uri": "https://localhost:8080/",
          "height": 990
        },
        "id": "dSIo2mHRZkaX",
        "outputId": "3339656c-e1dd-4af1-b763-7e4fbe39ca26"
      },
      "execution_count": null,
      "outputs": [
        {
          "output_type": "execute_result",
          "data": {
            "text/plain": [
              "                                               text\n",
              "0                                ﻿Table of Contents\n",
              "1                                                  \n",
              "2                                      INTRODUCTION\n",
              "3                                                  \n",
              "4                              The Pursuit of Being\n",
              "5                                                  \n",
              "6                                          PART ONE\n",
              "7                                                  \n",
              "8                        THE PROBLEM OF NOTHINGNESS\n",
              "9                                                  \n",
              "10              Chapter One. The Origin of Negation\n",
              "11                                                 \n",
              "12                                  I. The Question\n",
              "13                                                 \n",
              "14                                    II. Negations\n",
              "15                                                 \n",
              "16      III. The Dialectical Concept of Nothingness\n",
              "17                                                 \n",
              "18  IV. The Phenomenological Concept of Nothingness\n",
              "19                                                 \n",
              "20                     V. The Origin of Nothingness\n",
              "21                                                 \n",
              "22                           Chapter Two. Bad Faith\n",
              "23                                                 \n",
              "24                       I. Bad Faith and Falsehood\n",
              "25                                                 \n",
              "26                        II. Patterns of Bad Faith\n",
              "27                                                 \n",
              "28                    III. The “Faith” of Bad Faith\n",
              "29                                                 "
            ],
            "text/html": [
              "\n",
              "  <div id=\"df-38c94c18-316c-4109-a0e7-7ea0d6d2d2d5\" class=\"colab-df-container\">\n",
              "    <div>\n",
              "<style scoped>\n",
              "    .dataframe tbody tr th:only-of-type {\n",
              "        vertical-align: middle;\n",
              "    }\n",
              "\n",
              "    .dataframe tbody tr th {\n",
              "        vertical-align: top;\n",
              "    }\n",
              "\n",
              "    .dataframe thead th {\n",
              "        text-align: right;\n",
              "    }\n",
              "</style>\n",
              "<table border=\"1\" class=\"dataframe\">\n",
              "  <thead>\n",
              "    <tr style=\"text-align: right;\">\n",
              "      <th></th>\n",
              "      <th>text</th>\n",
              "    </tr>\n",
              "  </thead>\n",
              "  <tbody>\n",
              "    <tr>\n",
              "      <th>0</th>\n",
              "      <td>﻿Table of Contents</td>\n",
              "    </tr>\n",
              "    <tr>\n",
              "      <th>1</th>\n",
              "      <td></td>\n",
              "    </tr>\n",
              "    <tr>\n",
              "      <th>2</th>\n",
              "      <td>INTRODUCTION</td>\n",
              "    </tr>\n",
              "    <tr>\n",
              "      <th>3</th>\n",
              "      <td></td>\n",
              "    </tr>\n",
              "    <tr>\n",
              "      <th>4</th>\n",
              "      <td>The Pursuit of Being</td>\n",
              "    </tr>\n",
              "    <tr>\n",
              "      <th>5</th>\n",
              "      <td></td>\n",
              "    </tr>\n",
              "    <tr>\n",
              "      <th>6</th>\n",
              "      <td>PART ONE</td>\n",
              "    </tr>\n",
              "    <tr>\n",
              "      <th>7</th>\n",
              "      <td></td>\n",
              "    </tr>\n",
              "    <tr>\n",
              "      <th>8</th>\n",
              "      <td>THE PROBLEM OF NOTHINGNESS</td>\n",
              "    </tr>\n",
              "    <tr>\n",
              "      <th>9</th>\n",
              "      <td></td>\n",
              "    </tr>\n",
              "    <tr>\n",
              "      <th>10</th>\n",
              "      <td>Chapter One. The Origin of Negation</td>\n",
              "    </tr>\n",
              "    <tr>\n",
              "      <th>11</th>\n",
              "      <td></td>\n",
              "    </tr>\n",
              "    <tr>\n",
              "      <th>12</th>\n",
              "      <td>I. The Question</td>\n",
              "    </tr>\n",
              "    <tr>\n",
              "      <th>13</th>\n",
              "      <td></td>\n",
              "    </tr>\n",
              "    <tr>\n",
              "      <th>14</th>\n",
              "      <td>II. Negations</td>\n",
              "    </tr>\n",
              "    <tr>\n",
              "      <th>15</th>\n",
              "      <td></td>\n",
              "    </tr>\n",
              "    <tr>\n",
              "      <th>16</th>\n",
              "      <td>III. The Dialectical Concept of Nothingness</td>\n",
              "    </tr>\n",
              "    <tr>\n",
              "      <th>17</th>\n",
              "      <td></td>\n",
              "    </tr>\n",
              "    <tr>\n",
              "      <th>18</th>\n",
              "      <td>IV. The Phenomenological Concept of Nothingness</td>\n",
              "    </tr>\n",
              "    <tr>\n",
              "      <th>19</th>\n",
              "      <td></td>\n",
              "    </tr>\n",
              "    <tr>\n",
              "      <th>20</th>\n",
              "      <td>V. The Origin of Nothingness</td>\n",
              "    </tr>\n",
              "    <tr>\n",
              "      <th>21</th>\n",
              "      <td></td>\n",
              "    </tr>\n",
              "    <tr>\n",
              "      <th>22</th>\n",
              "      <td>Chapter Two. Bad Faith</td>\n",
              "    </tr>\n",
              "    <tr>\n",
              "      <th>23</th>\n",
              "      <td></td>\n",
              "    </tr>\n",
              "    <tr>\n",
              "      <th>24</th>\n",
              "      <td>I. Bad Faith and Falsehood</td>\n",
              "    </tr>\n",
              "    <tr>\n",
              "      <th>25</th>\n",
              "      <td></td>\n",
              "    </tr>\n",
              "    <tr>\n",
              "      <th>26</th>\n",
              "      <td>II. Patterns of Bad Faith</td>\n",
              "    </tr>\n",
              "    <tr>\n",
              "      <th>27</th>\n",
              "      <td></td>\n",
              "    </tr>\n",
              "    <tr>\n",
              "      <th>28</th>\n",
              "      <td>III. The “Faith” of Bad Faith</td>\n",
              "    </tr>\n",
              "    <tr>\n",
              "      <th>29</th>\n",
              "      <td></td>\n",
              "    </tr>\n",
              "  </tbody>\n",
              "</table>\n",
              "</div>\n",
              "    <div class=\"colab-df-buttons\">\n",
              "\n",
              "  <div class=\"colab-df-container\">\n",
              "    <button class=\"colab-df-convert\" onclick=\"convertToInteractive('df-38c94c18-316c-4109-a0e7-7ea0d6d2d2d5')\"\n",
              "            title=\"Convert this dataframe to an interactive table.\"\n",
              "            style=\"display:none;\">\n",
              "\n",
              "  <svg xmlns=\"http://www.w3.org/2000/svg\" height=\"24px\" viewBox=\"0 -960 960 960\">\n",
              "    <path d=\"M120-120v-720h720v720H120Zm60-500h600v-160H180v160Zm220 220h160v-160H400v160Zm0 220h160v-160H400v160ZM180-400h160v-160H180v160Zm440 0h160v-160H620v160ZM180-180h160v-160H180v160Zm440 0h160v-160H620v160Z\"/>\n",
              "  </svg>\n",
              "    </button>\n",
              "\n",
              "  <style>\n",
              "    .colab-df-container {\n",
              "      display:flex;\n",
              "      gap: 12px;\n",
              "    }\n",
              "\n",
              "    .colab-df-convert {\n",
              "      background-color: #E8F0FE;\n",
              "      border: none;\n",
              "      border-radius: 50%;\n",
              "      cursor: pointer;\n",
              "      display: none;\n",
              "      fill: #1967D2;\n",
              "      height: 32px;\n",
              "      padding: 0 0 0 0;\n",
              "      width: 32px;\n",
              "    }\n",
              "\n",
              "    .colab-df-convert:hover {\n",
              "      background-color: #E2EBFA;\n",
              "      box-shadow: 0px 1px 2px rgba(60, 64, 67, 0.3), 0px 1px 3px 1px rgba(60, 64, 67, 0.15);\n",
              "      fill: #174EA6;\n",
              "    }\n",
              "\n",
              "    .colab-df-buttons div {\n",
              "      margin-bottom: 4px;\n",
              "    }\n",
              "\n",
              "    [theme=dark] .colab-df-convert {\n",
              "      background-color: #3B4455;\n",
              "      fill: #D2E3FC;\n",
              "    }\n",
              "\n",
              "    [theme=dark] .colab-df-convert:hover {\n",
              "      background-color: #434B5C;\n",
              "      box-shadow: 0px 1px 3px 1px rgba(0, 0, 0, 0.15);\n",
              "      filter: drop-shadow(0px 1px 2px rgba(0, 0, 0, 0.3));\n",
              "      fill: #FFFFFF;\n",
              "    }\n",
              "  </style>\n",
              "\n",
              "    <script>\n",
              "      const buttonEl =\n",
              "        document.querySelector('#df-38c94c18-316c-4109-a0e7-7ea0d6d2d2d5 button.colab-df-convert');\n",
              "      buttonEl.style.display =\n",
              "        google.colab.kernel.accessAllowed ? 'block' : 'none';\n",
              "\n",
              "      async function convertToInteractive(key) {\n",
              "        const element = document.querySelector('#df-38c94c18-316c-4109-a0e7-7ea0d6d2d2d5');\n",
              "        const dataTable =\n",
              "          await google.colab.kernel.invokeFunction('convertToInteractive',\n",
              "                                                    [key], {});\n",
              "        if (!dataTable) return;\n",
              "\n",
              "        const docLinkHtml = 'Like what you see? Visit the ' +\n",
              "          '<a target=\"_blank\" href=https://colab.research.google.com/notebooks/data_table.ipynb>data table notebook</a>'\n",
              "          + ' to learn more about interactive tables.';\n",
              "        element.innerHTML = '';\n",
              "        dataTable['output_type'] = 'display_data';\n",
              "        await google.colab.output.renderOutput(dataTable, element);\n",
              "        const docLink = document.createElement('div');\n",
              "        docLink.innerHTML = docLinkHtml;\n",
              "        element.appendChild(docLink);\n",
              "      }\n",
              "    </script>\n",
              "  </div>\n",
              "\n",
              "\n",
              "<div id=\"df-1c03719b-1cb2-4757-b3c2-b9db05cf0a04\">\n",
              "  <button class=\"colab-df-quickchart\" onclick=\"quickchart('df-1c03719b-1cb2-4757-b3c2-b9db05cf0a04')\"\n",
              "            title=\"Suggest charts\"\n",
              "            style=\"display:none;\">\n",
              "\n",
              "<svg xmlns=\"http://www.w3.org/2000/svg\" height=\"24px\"viewBox=\"0 0 24 24\"\n",
              "     width=\"24px\">\n",
              "    <g>\n",
              "        <path d=\"M19 3H5c-1.1 0-2 .9-2 2v14c0 1.1.9 2 2 2h14c1.1 0 2-.9 2-2V5c0-1.1-.9-2-2-2zM9 17H7v-7h2v7zm4 0h-2V7h2v10zm4 0h-2v-4h2v4z\"/>\n",
              "    </g>\n",
              "</svg>\n",
              "  </button>\n",
              "\n",
              "<style>\n",
              "  .colab-df-quickchart {\n",
              "      --bg-color: #E8F0FE;\n",
              "      --fill-color: #1967D2;\n",
              "      --hover-bg-color: #E2EBFA;\n",
              "      --hover-fill-color: #174EA6;\n",
              "      --disabled-fill-color: #AAA;\n",
              "      --disabled-bg-color: #DDD;\n",
              "  }\n",
              "\n",
              "  [theme=dark] .colab-df-quickchart {\n",
              "      --bg-color: #3B4455;\n",
              "      --fill-color: #D2E3FC;\n",
              "      --hover-bg-color: #434B5C;\n",
              "      --hover-fill-color: #FFFFFF;\n",
              "      --disabled-bg-color: #3B4455;\n",
              "      --disabled-fill-color: #666;\n",
              "  }\n",
              "\n",
              "  .colab-df-quickchart {\n",
              "    background-color: var(--bg-color);\n",
              "    border: none;\n",
              "    border-radius: 50%;\n",
              "    cursor: pointer;\n",
              "    display: none;\n",
              "    fill: var(--fill-color);\n",
              "    height: 32px;\n",
              "    padding: 0;\n",
              "    width: 32px;\n",
              "  }\n",
              "\n",
              "  .colab-df-quickchart:hover {\n",
              "    background-color: var(--hover-bg-color);\n",
              "    box-shadow: 0 1px 2px rgba(60, 64, 67, 0.3), 0 1px 3px 1px rgba(60, 64, 67, 0.15);\n",
              "    fill: var(--button-hover-fill-color);\n",
              "  }\n",
              "\n",
              "  .colab-df-quickchart-complete:disabled,\n",
              "  .colab-df-quickchart-complete:disabled:hover {\n",
              "    background-color: var(--disabled-bg-color);\n",
              "    fill: var(--disabled-fill-color);\n",
              "    box-shadow: none;\n",
              "  }\n",
              "\n",
              "  .colab-df-spinner {\n",
              "    border: 2px solid var(--fill-color);\n",
              "    border-color: transparent;\n",
              "    border-bottom-color: var(--fill-color);\n",
              "    animation:\n",
              "      spin 1s steps(1) infinite;\n",
              "  }\n",
              "\n",
              "  @keyframes spin {\n",
              "    0% {\n",
              "      border-color: transparent;\n",
              "      border-bottom-color: var(--fill-color);\n",
              "      border-left-color: var(--fill-color);\n",
              "    }\n",
              "    20% {\n",
              "      border-color: transparent;\n",
              "      border-left-color: var(--fill-color);\n",
              "      border-top-color: var(--fill-color);\n",
              "    }\n",
              "    30% {\n",
              "      border-color: transparent;\n",
              "      border-left-color: var(--fill-color);\n",
              "      border-top-color: var(--fill-color);\n",
              "      border-right-color: var(--fill-color);\n",
              "    }\n",
              "    40% {\n",
              "      border-color: transparent;\n",
              "      border-right-color: var(--fill-color);\n",
              "      border-top-color: var(--fill-color);\n",
              "    }\n",
              "    60% {\n",
              "      border-color: transparent;\n",
              "      border-right-color: var(--fill-color);\n",
              "    }\n",
              "    80% {\n",
              "      border-color: transparent;\n",
              "      border-right-color: var(--fill-color);\n",
              "      border-bottom-color: var(--fill-color);\n",
              "    }\n",
              "    90% {\n",
              "      border-color: transparent;\n",
              "      border-bottom-color: var(--fill-color);\n",
              "    }\n",
              "  }\n",
              "</style>\n",
              "\n",
              "  <script>\n",
              "    async function quickchart(key) {\n",
              "      const quickchartButtonEl =\n",
              "        document.querySelector('#' + key + ' button');\n",
              "      quickchartButtonEl.disabled = true;  // To prevent multiple clicks.\n",
              "      quickchartButtonEl.classList.add('colab-df-spinner');\n",
              "      try {\n",
              "        const charts = await google.colab.kernel.invokeFunction(\n",
              "            'suggestCharts', [key], {});\n",
              "      } catch (error) {\n",
              "        console.error('Error during call to suggestCharts:', error);\n",
              "      }\n",
              "      quickchartButtonEl.classList.remove('colab-df-spinner');\n",
              "      quickchartButtonEl.classList.add('colab-df-quickchart-complete');\n",
              "    }\n",
              "    (() => {\n",
              "      let quickchartButtonEl =\n",
              "        document.querySelector('#df-1c03719b-1cb2-4757-b3c2-b9db05cf0a04 button');\n",
              "      quickchartButtonEl.style.display =\n",
              "        google.colab.kernel.accessAllowed ? 'block' : 'none';\n",
              "    })();\n",
              "  </script>\n",
              "</div>\n",
              "    </div>\n",
              "  </div>\n"
            ],
            "application/vnd.google.colaboratory.intrinsic+json": {
              "type": "dataframe",
              "variable_name": "df_raw",
              "summary": "{\n  \"name\": \"df_raw\",\n  \"rows\": 8565,\n  \"fields\": [\n    {\n      \"column\": \"text\",\n      \"properties\": {\n        \"dtype\": \"category\",\n        \"samples\": [\n          \"\\u201cWhat must one think, Monsieur? Perhaps it is a paradox? I thought to endow my idea with the quality of a caprice.\\u201d\",\n          \"\\u201cThey weren\\u2019t traps. . . . So, naturally, you\\u2019d have gone straight over and sat down.\\u201d\",\n          \"Thus we should restrict ourselves to taking the psychoanalytic method as our inspiration; that is, we should attempt to disengage the meanings of an act by proceeding from the principle that every action, no matter how trivial, is not the simple effect of the prior psychic state and does not result from a linear determinism but rather is integrated as a secondary structure in global structures and finally in the totality which I am. Otherwise, in fact, I should have to understand myself either as a horizontal flux of phenomena, each one of which is externally conditioned by the preceding\\u2014or as a supporting substance for a flow, a substance deprived of the meaning of its modes. Both these conceptions would lead us to confuse the for-itself with the in-itself.\"\n        ],\n        \"num_unique_values\": 3913,\n        \"semantic_type\": \"\",\n        \"description\": \"\"\n      }\n    }\n  ]\n}"
            }
          },
          "metadata": {},
          "execution_count": 57
        }
      ]
    },
    {
      "cell_type": "markdown",
      "source": [
        "## Remove rubbish from the dataset"
      ],
      "metadata": {
        "id": "PcnlkKOXZqQb"
      }
    },
    {
      "cell_type": "markdown",
      "source": [
        "\n",
        "- I removed books' prefaces and name indexes manually, because those were organized differently in books and contained dofferent parts (one had bibliography at the end of it, images links... No way I could caught that)\n",
        "\n",
        "- Content's pages and the chapter's names (they're written in caps and accompanied by roman numerals)\n",
        "\n",
        "- Some additional phrases that I noticed while looking at texts"
      ],
      "metadata": {
        "id": "NA75mCCjfnHC"
      }
    },
    {
      "cell_type": "code",
      "source": [
        "df_clear = df_raw\n",
        "\n",
        "table_of_contents = r'[IV].*'\n",
        "all_capital_names = r'[A-Z]{2,}:'\n",
        "all_capital = r'[A-Z]{2,}'\n",
        "\n",
        "df_clear = df_clear.replace(to_replace = table_of_contents, value = '', regex = True)\n",
        "df_clear =  df_clear.replace(to_replace = all_capital_names, value = '', regex = True)\n",
        "df_clear =  df_clear.replace(to_replace = all_capital, value = '', regex = True)"
      ],
      "metadata": {
        "id": "PsgNhn2WP9pn"
      },
      "execution_count": null,
      "outputs": []
    },
    {
      "cell_type": "code",
      "source": [
        "df_clear = df_clear[~df_clear.text.str.contains(\"Table of Contents\")]"
      ],
      "metadata": {
        "id": "rjpQmJxsVhAf"
      },
      "execution_count": null,
      "outputs": []
    },
    {
      "cell_type": "code",
      "source": [
        "df_clear = df_clear[~df_clear.text.str.contains(\"Chapter\")]"
      ],
      "metadata": {
        "id": "h19a0S3zXMB9"
      },
      "execution_count": null,
      "outputs": []
    },
    {
      "cell_type": "code",
      "source": [
        "# empty cells removal\n",
        "df_clear = df_clear.replace(r'^\\s*$', np.nan, regex=True).dropna(subset=['text'])"
      ],
      "metadata": {
        "id": "9yn2sTVMQWWO"
      },
      "execution_count": null,
      "outputs": []
    },
    {
      "cell_type": "code",
      "source": [
        "df_clear"
      ],
      "metadata": {
        "colab": {
          "base_uri": "https://localhost:8080/",
          "height": 424
        },
        "id": "HLit-B9-aXkQ",
        "outputId": "c7c1d2ef-8ff1-4c36-c787-c2b315567b32"
      },
      "execution_count": null,
      "outputs": [
        {
          "output_type": "execute_result",
          "data": {
            "text/plain": [
              "                                                   text\n",
              "4                                  The Pursuit of Being\n",
              "122                          Key to Special Terminology\n",
              "126                                The Pursuit of Being\n",
              "130    thought has realized considerable progress by...\n",
              "134   The obvious conclusion is that the dualism of ...\n",
              "...                                                 ...\n",
              "8549  The Negress sings. Can you justify your existe...\n",
              "8551                                 Some of these days\n",
              "8553                              You’ll miss me, honey\n",
              "8555                                          Couldn’t \n",
              "8559  Night falls. On the second floor of the Hotel ...\n",
              "\n",
              "[3275 rows x 1 columns]"
            ],
            "text/html": [
              "\n",
              "  <div id=\"df-6903a46b-d21c-482d-8c69-6021147b15e1\" class=\"colab-df-container\">\n",
              "    <div>\n",
              "<style scoped>\n",
              "    .dataframe tbody tr th:only-of-type {\n",
              "        vertical-align: middle;\n",
              "    }\n",
              "\n",
              "    .dataframe tbody tr th {\n",
              "        vertical-align: top;\n",
              "    }\n",
              "\n",
              "    .dataframe thead th {\n",
              "        text-align: right;\n",
              "    }\n",
              "</style>\n",
              "<table border=\"1\" class=\"dataframe\">\n",
              "  <thead>\n",
              "    <tr style=\"text-align: right;\">\n",
              "      <th></th>\n",
              "      <th>text</th>\n",
              "    </tr>\n",
              "  </thead>\n",
              "  <tbody>\n",
              "    <tr>\n",
              "      <th>4</th>\n",
              "      <td>The Pursuit of Being</td>\n",
              "    </tr>\n",
              "    <tr>\n",
              "      <th>122</th>\n",
              "      <td>Key to Special Terminology</td>\n",
              "    </tr>\n",
              "    <tr>\n",
              "      <th>126</th>\n",
              "      <td>The Pursuit of Being</td>\n",
              "    </tr>\n",
              "    <tr>\n",
              "      <th>130</th>\n",
              "      <td>thought has realized considerable progress by...</td>\n",
              "    </tr>\n",
              "    <tr>\n",
              "      <th>134</th>\n",
              "      <td>The obvious conclusion is that the dualism of ...</td>\n",
              "    </tr>\n",
              "    <tr>\n",
              "      <th>...</th>\n",
              "      <td>...</td>\n",
              "    </tr>\n",
              "    <tr>\n",
              "      <th>8549</th>\n",
              "      <td>The Negress sings. Can you justify your existe...</td>\n",
              "    </tr>\n",
              "    <tr>\n",
              "      <th>8551</th>\n",
              "      <td>Some of these days</td>\n",
              "    </tr>\n",
              "    <tr>\n",
              "      <th>8553</th>\n",
              "      <td>You’ll miss me, honey</td>\n",
              "    </tr>\n",
              "    <tr>\n",
              "      <th>8555</th>\n",
              "      <td>Couldn’t</td>\n",
              "    </tr>\n",
              "    <tr>\n",
              "      <th>8559</th>\n",
              "      <td>Night falls. On the second floor of the Hotel ...</td>\n",
              "    </tr>\n",
              "  </tbody>\n",
              "</table>\n",
              "<p>3275 rows × 1 columns</p>\n",
              "</div>\n",
              "    <div class=\"colab-df-buttons\">\n",
              "\n",
              "  <div class=\"colab-df-container\">\n",
              "    <button class=\"colab-df-convert\" onclick=\"convertToInteractive('df-6903a46b-d21c-482d-8c69-6021147b15e1')\"\n",
              "            title=\"Convert this dataframe to an interactive table.\"\n",
              "            style=\"display:none;\">\n",
              "\n",
              "  <svg xmlns=\"http://www.w3.org/2000/svg\" height=\"24px\" viewBox=\"0 -960 960 960\">\n",
              "    <path d=\"M120-120v-720h720v720H120Zm60-500h600v-160H180v160Zm220 220h160v-160H400v160Zm0 220h160v-160H400v160ZM180-400h160v-160H180v160Zm440 0h160v-160H620v160ZM180-180h160v-160H180v160Zm440 0h160v-160H620v160Z\"/>\n",
              "  </svg>\n",
              "    </button>\n",
              "\n",
              "  <style>\n",
              "    .colab-df-container {\n",
              "      display:flex;\n",
              "      gap: 12px;\n",
              "    }\n",
              "\n",
              "    .colab-df-convert {\n",
              "      background-color: #E8F0FE;\n",
              "      border: none;\n",
              "      border-radius: 50%;\n",
              "      cursor: pointer;\n",
              "      display: none;\n",
              "      fill: #1967D2;\n",
              "      height: 32px;\n",
              "      padding: 0 0 0 0;\n",
              "      width: 32px;\n",
              "    }\n",
              "\n",
              "    .colab-df-convert:hover {\n",
              "      background-color: #E2EBFA;\n",
              "      box-shadow: 0px 1px 2px rgba(60, 64, 67, 0.3), 0px 1px 3px 1px rgba(60, 64, 67, 0.15);\n",
              "      fill: #174EA6;\n",
              "    }\n",
              "\n",
              "    .colab-df-buttons div {\n",
              "      margin-bottom: 4px;\n",
              "    }\n",
              "\n",
              "    [theme=dark] .colab-df-convert {\n",
              "      background-color: #3B4455;\n",
              "      fill: #D2E3FC;\n",
              "    }\n",
              "\n",
              "    [theme=dark] .colab-df-convert:hover {\n",
              "      background-color: #434B5C;\n",
              "      box-shadow: 0px 1px 3px 1px rgba(0, 0, 0, 0.15);\n",
              "      filter: drop-shadow(0px 1px 2px rgba(0, 0, 0, 0.3));\n",
              "      fill: #FFFFFF;\n",
              "    }\n",
              "  </style>\n",
              "\n",
              "    <script>\n",
              "      const buttonEl =\n",
              "        document.querySelector('#df-6903a46b-d21c-482d-8c69-6021147b15e1 button.colab-df-convert');\n",
              "      buttonEl.style.display =\n",
              "        google.colab.kernel.accessAllowed ? 'block' : 'none';\n",
              "\n",
              "      async function convertToInteractive(key) {\n",
              "        const element = document.querySelector('#df-6903a46b-d21c-482d-8c69-6021147b15e1');\n",
              "        const dataTable =\n",
              "          await google.colab.kernel.invokeFunction('convertToInteractive',\n",
              "                                                    [key], {});\n",
              "        if (!dataTable) return;\n",
              "\n",
              "        const docLinkHtml = 'Like what you see? Visit the ' +\n",
              "          '<a target=\"_blank\" href=https://colab.research.google.com/notebooks/data_table.ipynb>data table notebook</a>'\n",
              "          + ' to learn more about interactive tables.';\n",
              "        element.innerHTML = '';\n",
              "        dataTable['output_type'] = 'display_data';\n",
              "        await google.colab.output.renderOutput(dataTable, element);\n",
              "        const docLink = document.createElement('div');\n",
              "        docLink.innerHTML = docLinkHtml;\n",
              "        element.appendChild(docLink);\n",
              "      }\n",
              "    </script>\n",
              "  </div>\n",
              "\n",
              "\n",
              "<div id=\"df-030872c2-1a5c-418d-af81-056077490c2e\">\n",
              "  <button class=\"colab-df-quickchart\" onclick=\"quickchart('df-030872c2-1a5c-418d-af81-056077490c2e')\"\n",
              "            title=\"Suggest charts\"\n",
              "            style=\"display:none;\">\n",
              "\n",
              "<svg xmlns=\"http://www.w3.org/2000/svg\" height=\"24px\"viewBox=\"0 0 24 24\"\n",
              "     width=\"24px\">\n",
              "    <g>\n",
              "        <path d=\"M19 3H5c-1.1 0-2 .9-2 2v14c0 1.1.9 2 2 2h14c1.1 0 2-.9 2-2V5c0-1.1-.9-2-2-2zM9 17H7v-7h2v7zm4 0h-2V7h2v10zm4 0h-2v-4h2v4z\"/>\n",
              "    </g>\n",
              "</svg>\n",
              "  </button>\n",
              "\n",
              "<style>\n",
              "  .colab-df-quickchart {\n",
              "      --bg-color: #E8F0FE;\n",
              "      --fill-color: #1967D2;\n",
              "      --hover-bg-color: #E2EBFA;\n",
              "      --hover-fill-color: #174EA6;\n",
              "      --disabled-fill-color: #AAA;\n",
              "      --disabled-bg-color: #DDD;\n",
              "  }\n",
              "\n",
              "  [theme=dark] .colab-df-quickchart {\n",
              "      --bg-color: #3B4455;\n",
              "      --fill-color: #D2E3FC;\n",
              "      --hover-bg-color: #434B5C;\n",
              "      --hover-fill-color: #FFFFFF;\n",
              "      --disabled-bg-color: #3B4455;\n",
              "      --disabled-fill-color: #666;\n",
              "  }\n",
              "\n",
              "  .colab-df-quickchart {\n",
              "    background-color: var(--bg-color);\n",
              "    border: none;\n",
              "    border-radius: 50%;\n",
              "    cursor: pointer;\n",
              "    display: none;\n",
              "    fill: var(--fill-color);\n",
              "    height: 32px;\n",
              "    padding: 0;\n",
              "    width: 32px;\n",
              "  }\n",
              "\n",
              "  .colab-df-quickchart:hover {\n",
              "    background-color: var(--hover-bg-color);\n",
              "    box-shadow: 0 1px 2px rgba(60, 64, 67, 0.3), 0 1px 3px 1px rgba(60, 64, 67, 0.15);\n",
              "    fill: var(--button-hover-fill-color);\n",
              "  }\n",
              "\n",
              "  .colab-df-quickchart-complete:disabled,\n",
              "  .colab-df-quickchart-complete:disabled:hover {\n",
              "    background-color: var(--disabled-bg-color);\n",
              "    fill: var(--disabled-fill-color);\n",
              "    box-shadow: none;\n",
              "  }\n",
              "\n",
              "  .colab-df-spinner {\n",
              "    border: 2px solid var(--fill-color);\n",
              "    border-color: transparent;\n",
              "    border-bottom-color: var(--fill-color);\n",
              "    animation:\n",
              "      spin 1s steps(1) infinite;\n",
              "  }\n",
              "\n",
              "  @keyframes spin {\n",
              "    0% {\n",
              "      border-color: transparent;\n",
              "      border-bottom-color: var(--fill-color);\n",
              "      border-left-color: var(--fill-color);\n",
              "    }\n",
              "    20% {\n",
              "      border-color: transparent;\n",
              "      border-left-color: var(--fill-color);\n",
              "      border-top-color: var(--fill-color);\n",
              "    }\n",
              "    30% {\n",
              "      border-color: transparent;\n",
              "      border-left-color: var(--fill-color);\n",
              "      border-top-color: var(--fill-color);\n",
              "      border-right-color: var(--fill-color);\n",
              "    }\n",
              "    40% {\n",
              "      border-color: transparent;\n",
              "      border-right-color: var(--fill-color);\n",
              "      border-top-color: var(--fill-color);\n",
              "    }\n",
              "    60% {\n",
              "      border-color: transparent;\n",
              "      border-right-color: var(--fill-color);\n",
              "    }\n",
              "    80% {\n",
              "      border-color: transparent;\n",
              "      border-right-color: var(--fill-color);\n",
              "      border-bottom-color: var(--fill-color);\n",
              "    }\n",
              "    90% {\n",
              "      border-color: transparent;\n",
              "      border-bottom-color: var(--fill-color);\n",
              "    }\n",
              "  }\n",
              "</style>\n",
              "\n",
              "  <script>\n",
              "    async function quickchart(key) {\n",
              "      const quickchartButtonEl =\n",
              "        document.querySelector('#' + key + ' button');\n",
              "      quickchartButtonEl.disabled = true;  // To prevent multiple clicks.\n",
              "      quickchartButtonEl.classList.add('colab-df-spinner');\n",
              "      try {\n",
              "        const charts = await google.colab.kernel.invokeFunction(\n",
              "            'suggestCharts', [key], {});\n",
              "      } catch (error) {\n",
              "        console.error('Error during call to suggestCharts:', error);\n",
              "      }\n",
              "      quickchartButtonEl.classList.remove('colab-df-spinner');\n",
              "      quickchartButtonEl.classList.add('colab-df-quickchart-complete');\n",
              "    }\n",
              "    (() => {\n",
              "      let quickchartButtonEl =\n",
              "        document.querySelector('#df-030872c2-1a5c-418d-af81-056077490c2e button');\n",
              "      quickchartButtonEl.style.display =\n",
              "        google.colab.kernel.accessAllowed ? 'block' : 'none';\n",
              "    })();\n",
              "  </script>\n",
              "</div>\n",
              "    </div>\n",
              "  </div>\n"
            ],
            "application/vnd.google.colaboratory.intrinsic+json": {
              "type": "dataframe",
              "variable_name": "df_clear",
              "summary": "{\n  \"name\": \"df_clear\",\n  \"rows\": 3275,\n  \"fields\": [\n    {\n      \"column\": \"text\",\n      \"properties\": {\n        \"dtype\": \"string\",\n        \"samples\": [\n          \"We know that the for-itself is the foundation of its own nothingness in the form of the phantom dyad\\u2014the reflection-reflecting. The reflecting exists only in order to reflect the reflection, and the reflection is a reflection only in so far as it refers to the reflecting. Thus the two terms outlined in the dyad point to each other, and each engages its being in the being of the other. But if the reflecting is nothing other than the reflecting of this reflection, and if the reflection can be characterized only by its \\u201cbeing-in-order-to-be reflected in this reflecting,\\u201d then the two terms of the quasi-dyad support their two nothingnesses on each other, conjointly annihilating themselves. \",\n          \"My glance slowly and wearily travels over my forehead, my cheeks: it finds nothing firm, it is stranded. Obviously there are a nose, two eyes and a mouth, but none of it makes sense, there is not even a human expression. Yet Anny and \",\n          \"Transcendence\"\n        ],\n        \"num_unique_values\": 3011,\n        \"semantic_type\": \"\",\n        \"description\": \"\"\n      }\n    }\n  ]\n}"
            }
          },
          "metadata": {},
          "execution_count": 62
        }
      ]
    },
    {
      "cell_type": "code",
      "source": [
        "# there are also duplicates - the names of the parts that migh've been left out and empty strings\n",
        "print(\"Number of duplicated rows: \", df_clear.duplicated().sum())"
      ],
      "metadata": {
        "colab": {
          "base_uri": "https://localhost:8080/"
        },
        "id": "Y2xJ5tRddMq5",
        "outputId": "e1438a8d-f771-4b2f-9190-62747602a6ba"
      },
      "execution_count": null,
      "outputs": [
        {
          "output_type": "stream",
          "name": "stdout",
          "text": [
            "Number of duplicated rows:  264\n"
          ]
        }
      ]
    },
    {
      "cell_type": "code",
      "source": [
        "df_clear = df_clear.drop_duplicates()\n",
        "print(\"Number of duplicated rows: \", df_clear.duplicated().sum())"
      ],
      "metadata": {
        "colab": {
          "base_uri": "https://localhost:8080/"
        },
        "id": "4ZiKU3uyfYSC",
        "outputId": "c55af232-8054-44f8-d714-f23fbe2b6ed7"
      },
      "execution_count": null,
      "outputs": [
        {
          "output_type": "stream",
          "name": "stdout",
          "text": [
            "Number of duplicated rows:  0\n"
          ]
        }
      ]
    },
    {
      "cell_type": "code",
      "source": [
        "df_clear"
      ],
      "metadata": {
        "colab": {
          "base_uri": "https://localhost:8080/",
          "height": 424
        },
        "id": "Txk-hzcZXY2v",
        "outputId": "a2151b9e-49d1-4487-d104-dbda87f71779"
      },
      "execution_count": null,
      "outputs": [
        {
          "output_type": "execute_result",
          "data": {
            "text/plain": [
              "                                                   text\n",
              "4                                  The Pursuit of Being\n",
              "122                          Key to Special Terminology\n",
              "130    thought has realized considerable progress by...\n",
              "134   The obvious conclusion is that the dualism of ...\n",
              "136   The duality of potency and act falls by the sa...\n",
              "...                                                 ...\n",
              "8545  Madeleine starts to laugh. She turns the crank...\n",
              "8547  She sings. So two of them are saved: the Jew a...\n",
              "8549  The Negress sings. Can you justify your existe...\n",
              "8555                                          Couldn’t \n",
              "8559  Night falls. On the second floor of the Hotel ...\n",
              "\n",
              "[3011 rows x 1 columns]"
            ],
            "text/html": [
              "\n",
              "  <div id=\"df-d5ea155e-0a97-41c8-948a-bca2a56f0570\" class=\"colab-df-container\">\n",
              "    <div>\n",
              "<style scoped>\n",
              "    .dataframe tbody tr th:only-of-type {\n",
              "        vertical-align: middle;\n",
              "    }\n",
              "\n",
              "    .dataframe tbody tr th {\n",
              "        vertical-align: top;\n",
              "    }\n",
              "\n",
              "    .dataframe thead th {\n",
              "        text-align: right;\n",
              "    }\n",
              "</style>\n",
              "<table border=\"1\" class=\"dataframe\">\n",
              "  <thead>\n",
              "    <tr style=\"text-align: right;\">\n",
              "      <th></th>\n",
              "      <th>text</th>\n",
              "    </tr>\n",
              "  </thead>\n",
              "  <tbody>\n",
              "    <tr>\n",
              "      <th>4</th>\n",
              "      <td>The Pursuit of Being</td>\n",
              "    </tr>\n",
              "    <tr>\n",
              "      <th>122</th>\n",
              "      <td>Key to Special Terminology</td>\n",
              "    </tr>\n",
              "    <tr>\n",
              "      <th>130</th>\n",
              "      <td>thought has realized considerable progress by...</td>\n",
              "    </tr>\n",
              "    <tr>\n",
              "      <th>134</th>\n",
              "      <td>The obvious conclusion is that the dualism of ...</td>\n",
              "    </tr>\n",
              "    <tr>\n",
              "      <th>136</th>\n",
              "      <td>The duality of potency and act falls by the sa...</td>\n",
              "    </tr>\n",
              "    <tr>\n",
              "      <th>...</th>\n",
              "      <td>...</td>\n",
              "    </tr>\n",
              "    <tr>\n",
              "      <th>8545</th>\n",
              "      <td>Madeleine starts to laugh. She turns the crank...</td>\n",
              "    </tr>\n",
              "    <tr>\n",
              "      <th>8547</th>\n",
              "      <td>She sings. So two of them are saved: the Jew a...</td>\n",
              "    </tr>\n",
              "    <tr>\n",
              "      <th>8549</th>\n",
              "      <td>The Negress sings. Can you justify your existe...</td>\n",
              "    </tr>\n",
              "    <tr>\n",
              "      <th>8555</th>\n",
              "      <td>Couldn’t</td>\n",
              "    </tr>\n",
              "    <tr>\n",
              "      <th>8559</th>\n",
              "      <td>Night falls. On the second floor of the Hotel ...</td>\n",
              "    </tr>\n",
              "  </tbody>\n",
              "</table>\n",
              "<p>3011 rows × 1 columns</p>\n",
              "</div>\n",
              "    <div class=\"colab-df-buttons\">\n",
              "\n",
              "  <div class=\"colab-df-container\">\n",
              "    <button class=\"colab-df-convert\" onclick=\"convertToInteractive('df-d5ea155e-0a97-41c8-948a-bca2a56f0570')\"\n",
              "            title=\"Convert this dataframe to an interactive table.\"\n",
              "            style=\"display:none;\">\n",
              "\n",
              "  <svg xmlns=\"http://www.w3.org/2000/svg\" height=\"24px\" viewBox=\"0 -960 960 960\">\n",
              "    <path d=\"M120-120v-720h720v720H120Zm60-500h600v-160H180v160Zm220 220h160v-160H400v160Zm0 220h160v-160H400v160ZM180-400h160v-160H180v160Zm440 0h160v-160H620v160ZM180-180h160v-160H180v160Zm440 0h160v-160H620v160Z\"/>\n",
              "  </svg>\n",
              "    </button>\n",
              "\n",
              "  <style>\n",
              "    .colab-df-container {\n",
              "      display:flex;\n",
              "      gap: 12px;\n",
              "    }\n",
              "\n",
              "    .colab-df-convert {\n",
              "      background-color: #E8F0FE;\n",
              "      border: none;\n",
              "      border-radius: 50%;\n",
              "      cursor: pointer;\n",
              "      display: none;\n",
              "      fill: #1967D2;\n",
              "      height: 32px;\n",
              "      padding: 0 0 0 0;\n",
              "      width: 32px;\n",
              "    }\n",
              "\n",
              "    .colab-df-convert:hover {\n",
              "      background-color: #E2EBFA;\n",
              "      box-shadow: 0px 1px 2px rgba(60, 64, 67, 0.3), 0px 1px 3px 1px rgba(60, 64, 67, 0.15);\n",
              "      fill: #174EA6;\n",
              "    }\n",
              "\n",
              "    .colab-df-buttons div {\n",
              "      margin-bottom: 4px;\n",
              "    }\n",
              "\n",
              "    [theme=dark] .colab-df-convert {\n",
              "      background-color: #3B4455;\n",
              "      fill: #D2E3FC;\n",
              "    }\n",
              "\n",
              "    [theme=dark] .colab-df-convert:hover {\n",
              "      background-color: #434B5C;\n",
              "      box-shadow: 0px 1px 3px 1px rgba(0, 0, 0, 0.15);\n",
              "      filter: drop-shadow(0px 1px 2px rgba(0, 0, 0, 0.3));\n",
              "      fill: #FFFFFF;\n",
              "    }\n",
              "  </style>\n",
              "\n",
              "    <script>\n",
              "      const buttonEl =\n",
              "        document.querySelector('#df-d5ea155e-0a97-41c8-948a-bca2a56f0570 button.colab-df-convert');\n",
              "      buttonEl.style.display =\n",
              "        google.colab.kernel.accessAllowed ? 'block' : 'none';\n",
              "\n",
              "      async function convertToInteractive(key) {\n",
              "        const element = document.querySelector('#df-d5ea155e-0a97-41c8-948a-bca2a56f0570');\n",
              "        const dataTable =\n",
              "          await google.colab.kernel.invokeFunction('convertToInteractive',\n",
              "                                                    [key], {});\n",
              "        if (!dataTable) return;\n",
              "\n",
              "        const docLinkHtml = 'Like what you see? Visit the ' +\n",
              "          '<a target=\"_blank\" href=https://colab.research.google.com/notebooks/data_table.ipynb>data table notebook</a>'\n",
              "          + ' to learn more about interactive tables.';\n",
              "        element.innerHTML = '';\n",
              "        dataTable['output_type'] = 'display_data';\n",
              "        await google.colab.output.renderOutput(dataTable, element);\n",
              "        const docLink = document.createElement('div');\n",
              "        docLink.innerHTML = docLinkHtml;\n",
              "        element.appendChild(docLink);\n",
              "      }\n",
              "    </script>\n",
              "  </div>\n",
              "\n",
              "\n",
              "<div id=\"df-804f0614-9413-43c3-ac71-a2a822f79f42\">\n",
              "  <button class=\"colab-df-quickchart\" onclick=\"quickchart('df-804f0614-9413-43c3-ac71-a2a822f79f42')\"\n",
              "            title=\"Suggest charts\"\n",
              "            style=\"display:none;\">\n",
              "\n",
              "<svg xmlns=\"http://www.w3.org/2000/svg\" height=\"24px\"viewBox=\"0 0 24 24\"\n",
              "     width=\"24px\">\n",
              "    <g>\n",
              "        <path d=\"M19 3H5c-1.1 0-2 .9-2 2v14c0 1.1.9 2 2 2h14c1.1 0 2-.9 2-2V5c0-1.1-.9-2-2-2zM9 17H7v-7h2v7zm4 0h-2V7h2v10zm4 0h-2v-4h2v4z\"/>\n",
              "    </g>\n",
              "</svg>\n",
              "  </button>\n",
              "\n",
              "<style>\n",
              "  .colab-df-quickchart {\n",
              "      --bg-color: #E8F0FE;\n",
              "      --fill-color: #1967D2;\n",
              "      --hover-bg-color: #E2EBFA;\n",
              "      --hover-fill-color: #174EA6;\n",
              "      --disabled-fill-color: #AAA;\n",
              "      --disabled-bg-color: #DDD;\n",
              "  }\n",
              "\n",
              "  [theme=dark] .colab-df-quickchart {\n",
              "      --bg-color: #3B4455;\n",
              "      --fill-color: #D2E3FC;\n",
              "      --hover-bg-color: #434B5C;\n",
              "      --hover-fill-color: #FFFFFF;\n",
              "      --disabled-bg-color: #3B4455;\n",
              "      --disabled-fill-color: #666;\n",
              "  }\n",
              "\n",
              "  .colab-df-quickchart {\n",
              "    background-color: var(--bg-color);\n",
              "    border: none;\n",
              "    border-radius: 50%;\n",
              "    cursor: pointer;\n",
              "    display: none;\n",
              "    fill: var(--fill-color);\n",
              "    height: 32px;\n",
              "    padding: 0;\n",
              "    width: 32px;\n",
              "  }\n",
              "\n",
              "  .colab-df-quickchart:hover {\n",
              "    background-color: var(--hover-bg-color);\n",
              "    box-shadow: 0 1px 2px rgba(60, 64, 67, 0.3), 0 1px 3px 1px rgba(60, 64, 67, 0.15);\n",
              "    fill: var(--button-hover-fill-color);\n",
              "  }\n",
              "\n",
              "  .colab-df-quickchart-complete:disabled,\n",
              "  .colab-df-quickchart-complete:disabled:hover {\n",
              "    background-color: var(--disabled-bg-color);\n",
              "    fill: var(--disabled-fill-color);\n",
              "    box-shadow: none;\n",
              "  }\n",
              "\n",
              "  .colab-df-spinner {\n",
              "    border: 2px solid var(--fill-color);\n",
              "    border-color: transparent;\n",
              "    border-bottom-color: var(--fill-color);\n",
              "    animation:\n",
              "      spin 1s steps(1) infinite;\n",
              "  }\n",
              "\n",
              "  @keyframes spin {\n",
              "    0% {\n",
              "      border-color: transparent;\n",
              "      border-bottom-color: var(--fill-color);\n",
              "      border-left-color: var(--fill-color);\n",
              "    }\n",
              "    20% {\n",
              "      border-color: transparent;\n",
              "      border-left-color: var(--fill-color);\n",
              "      border-top-color: var(--fill-color);\n",
              "    }\n",
              "    30% {\n",
              "      border-color: transparent;\n",
              "      border-left-color: var(--fill-color);\n",
              "      border-top-color: var(--fill-color);\n",
              "      border-right-color: var(--fill-color);\n",
              "    }\n",
              "    40% {\n",
              "      border-color: transparent;\n",
              "      border-right-color: var(--fill-color);\n",
              "      border-top-color: var(--fill-color);\n",
              "    }\n",
              "    60% {\n",
              "      border-color: transparent;\n",
              "      border-right-color: var(--fill-color);\n",
              "    }\n",
              "    80% {\n",
              "      border-color: transparent;\n",
              "      border-right-color: var(--fill-color);\n",
              "      border-bottom-color: var(--fill-color);\n",
              "    }\n",
              "    90% {\n",
              "      border-color: transparent;\n",
              "      border-bottom-color: var(--fill-color);\n",
              "    }\n",
              "  }\n",
              "</style>\n",
              "\n",
              "  <script>\n",
              "    async function quickchart(key) {\n",
              "      const quickchartButtonEl =\n",
              "        document.querySelector('#' + key + ' button');\n",
              "      quickchartButtonEl.disabled = true;  // To prevent multiple clicks.\n",
              "      quickchartButtonEl.classList.add('colab-df-spinner');\n",
              "      try {\n",
              "        const charts = await google.colab.kernel.invokeFunction(\n",
              "            'suggestCharts', [key], {});\n",
              "      } catch (error) {\n",
              "        console.error('Error during call to suggestCharts:', error);\n",
              "      }\n",
              "      quickchartButtonEl.classList.remove('colab-df-spinner');\n",
              "      quickchartButtonEl.classList.add('colab-df-quickchart-complete');\n",
              "    }\n",
              "    (() => {\n",
              "      let quickchartButtonEl =\n",
              "        document.querySelector('#df-804f0614-9413-43c3-ac71-a2a822f79f42 button');\n",
              "      quickchartButtonEl.style.display =\n",
              "        google.colab.kernel.accessAllowed ? 'block' : 'none';\n",
              "    })();\n",
              "  </script>\n",
              "</div>\n",
              "    </div>\n",
              "  </div>\n"
            ],
            "application/vnd.google.colaboratory.intrinsic+json": {
              "type": "dataframe",
              "variable_name": "df_clear",
              "summary": "{\n  \"name\": \"df_clear\",\n  \"rows\": 3011,\n  \"fields\": [\n    {\n      \"column\": \"text\",\n      \"properties\": {\n        \"dtype\": \"string\",\n        \"samples\": [\n          \"We know that the for-itself is the foundation of its own nothingness in the form of the phantom dyad\\u2014the reflection-reflecting. The reflecting exists only in order to reflect the reflection, and the reflection is a reflection only in so far as it refers to the reflecting. Thus the two terms outlined in the dyad point to each other, and each engages its being in the being of the other. But if the reflecting is nothing other than the reflecting of this reflection, and if the reflection can be characterized only by its \\u201cbeing-in-order-to-be reflected in this reflecting,\\u201d then the two terms of the quasi-dyad support their two nothingnesses on each other, conjointly annihilating themselves. \",\n          \"My glance slowly and wearily travels over my forehead, my cheeks: it finds nothing firm, it is stranded. Obviously there are a nose, two eyes and a mouth, but none of it makes sense, there is not even a human expression. Yet Anny and \",\n          \"Transcendence\"\n        ],\n        \"num_unique_values\": 3011,\n        \"semantic_type\": \"\",\n        \"description\": \"\"\n      }\n    }\n  ]\n}"
            }
          },
          "metadata": {},
          "execution_count": 65
        }
      ]
    },
    {
      "cell_type": "markdown",
      "source": [
        "# Embeddings"
      ],
      "metadata": {
        "id": "cdrvj71n5XJ9"
      }
    },
    {
      "cell_type": "code",
      "source": [
        "from gensim.models import Word2Vec\n",
        "word_model = Word2Vec(df_clear['text'].apply(lambda x: x.split()), min_count=1, vector_size=50, window=3, sg = 1)"
      ],
      "metadata": {
        "id": "Z2deVDk155w_"
      },
      "execution_count": null,
      "outputs": []
    },
    {
      "cell_type": "code",
      "source": [
        "all_words = set(' '.join(df_clear['text'].values).split())\n",
        "decode_BOW = {}\n",
        "encode_BOW = {}\n",
        "\n",
        "for i, word in enumerate(all_words):\n",
        "    decode_BOW[i] = word\n",
        "    encode_BOW[word] = i\n",
        "\n",
        "len(decode_BOW)"
      ],
      "metadata": {
        "colab": {
          "base_uri": "https://localhost:8080/"
        },
        "id": "4CLJI3b-ioUL",
        "outputId": "5c7242e6-0bfd-47cd-88b7-fcead265a99f"
      },
      "execution_count": null,
      "outputs": [
        {
          "output_type": "execute_result",
          "data": {
            "text/plain": [
              "15938"
            ]
          },
          "metadata": {},
          "execution_count": 67
        }
      ]
    },
    {
      "cell_type": "code",
      "source": [
        "word_model.wv.most_similar('nothingness')[:5]"
      ],
      "metadata": {
        "colab": {
          "base_uri": "https://localhost:8080/"
        },
        "id": "5oGz6oFNiyNP",
        "outputId": "c6ed7a14-97c9-46af-86ac-c133e7d60f8a"
      },
      "execution_count": null,
      "outputs": [
        {
          "output_type": "execute_result",
          "data": {
            "text/plain": [
              "[('act', 0.996894359588623),\n",
              " ('situation', 0.9965001940727234),\n",
              " ('defined', 0.996267557144165),\n",
              " ('transcendent', 0.9959158897399902),\n",
              " ('reflection', 0.9958268404006958)]"
            ]
          },
          "metadata": {},
          "execution_count": 68
        }
      ]
    },
    {
      "cell_type": "code",
      "source": [
        "tqdm.tqdm.pandas()\n",
        "X = []\n",
        "y_vector = []\n",
        "y_bow = []\n",
        "for _, i in tqdm.tqdm(df_clear.iterrows()):\n",
        "  x_part = []\n",
        "  if len(i['text'].split()) < 7:\n",
        "    continue\n",
        "  for token in i['text'].split()[-7:-1]:\n",
        "    x_part.append(word_model.wv[token])\n",
        "  X.append(np.array(x_part))\n",
        "  y_vector.append(word_model.wv[i['text'].split()[-1]])\n",
        "  y_bow.append(encode_BOW[i['text'].split()[-1]])"
      ],
      "metadata": {
        "colab": {
          "base_uri": "https://localhost:8080/"
        },
        "id": "rie-TqhMjnDy",
        "outputId": "ded0aa11-2124-4bd5-f47e-192ad81fdf0f"
      },
      "execution_count": null,
      "outputs": [
        {
          "output_type": "stream",
          "name": "stderr",
          "text": [
            "3011it [00:00, 10727.28it/s]\n"
          ]
        }
      ]
    },
    {
      "cell_type": "markdown",
      "source": [
        "# Neural network: splits"
      ],
      "metadata": {
        "id": "5rV2AnZ25hZv"
      }
    },
    {
      "cell_type": "code",
      "source": [
        "X = np.array(X)\n",
        "y_vector = np.array(y_vector)"
      ],
      "metadata": {
        "id": "bt5Fl-QKks5E"
      },
      "execution_count": null,
      "outputs": []
    },
    {
      "cell_type": "code",
      "source": [
        "X.shape"
      ],
      "metadata": {
        "colab": {
          "base_uri": "https://localhost:8080/"
        },
        "id": "fb2wy71M56Z8",
        "outputId": "ad5823fe-443f-43d3-8698-eb3934b26a78"
      },
      "execution_count": null,
      "outputs": [
        {
          "output_type": "execute_result",
          "data": {
            "text/plain": [
              "(2275, 6, 50)"
            ]
          },
          "metadata": {},
          "execution_count": 71
        }
      ]
    },
    {
      "cell_type": "code",
      "source": [
        "X[0][:2]"
      ],
      "metadata": {
        "colab": {
          "base_uri": "https://localhost:8080/"
        },
        "id": "s3qLx-HllAB-",
        "outputId": "bf886e6c-92ae-4677-def8-481cf040ea8f"
      },
      "execution_count": null,
      "outputs": [
        {
          "output_type": "execute_result",
          "data": {
            "text/plain": [
              "array([[-0.21651919,  0.3494633 ,  0.21626076,  0.25500724, -0.03996427,\n",
              "        -0.5502975 ,  0.28861174,  0.9906084 , -0.55631256, -0.25461635,\n",
              "         0.21248613, -0.3439866 ,  0.1181298 ,  0.13878778, -0.07239678,\n",
              "        -0.05393448,  0.26189578,  0.49151748, -0.56183934, -0.9394115 ,\n",
              "         0.18456537,  0.27462792,  0.9433881 , -0.31166694,  0.22052377,\n",
              "         0.06325611, -0.00229016,  0.6270935 , -0.8576862 , -0.08379294,\n",
              "        -0.19877133, -0.4516982 ,  0.25518683, -0.220599  , -0.14119469,\n",
              "         0.09240447,  0.7255836 ,  0.13616015,  0.3288222 , -0.26461878,\n",
              "        -0.12000673,  0.0360985 , -0.41225338,  0.0812273 ,  0.79337376,\n",
              "        -0.10684013, -0.24175347,  0.2220161 ,  0.1140832 ,  0.42742166],\n",
              "       [-0.07038482,  0.10561918,  0.10110154,  0.20272906, -0.09983738,\n",
              "        -0.41917792,  0.27985707,  0.3266358 , -0.4270572 , -0.33336237,\n",
              "         0.01068751, -0.29578957,  0.24536136,  0.08108751, -0.08489799,\n",
              "         0.13711287,  0.20609085,  0.22215831, -0.48109686, -0.55768293,\n",
              "         0.11718326,  0.26656166,  0.38988903, -0.1534531 ,  0.21757206,\n",
              "         0.2665926 , -0.16036077,  0.34492657, -0.27625826,  0.15495133,\n",
              "         0.12648569, -0.28920308,  0.06765562, -0.01906977, -0.18905385,\n",
              "         0.12189065,  0.45845446,  0.14220239, -0.03427895, -0.22292238,\n",
              "         0.34474748, -0.00828245, -0.14611961,  0.1191794 ,  0.57777035,\n",
              "        -0.16712704,  0.00671133, -0.04132814,  0.1289118 ,  0.23355144]],\n",
              "      dtype=float32)"
            ]
          },
          "metadata": {},
          "execution_count": 72
        }
      ]
    },
    {
      "cell_type": "code",
      "source": [
        "from sklearn.model_selection import train_test_split\n",
        "\n",
        "y = list(zip(y_vector, y_bow))\n",
        "\n",
        "X_train, X_test, y_train, y_test = train_test_split(X, y, test_size=.1, random_state=42)\n",
        "\n",
        "y_vector_train = np.array([np.array(i[0]) for i in y_train])\n",
        "y_bow_train = np.array([i[1] for i in y_train])\n",
        "\n",
        "y_vector_test = np.array([np.array(i[0]) for i in y_test])\n",
        "y_bow_test = np.array([i[1] for i in y_test])"
      ],
      "metadata": {
        "id": "8HSGAImFoGMh"
      },
      "execution_count": null,
      "outputs": []
    },
    {
      "cell_type": "markdown",
      "source": [
        "# Neural network: architehture"
      ],
      "metadata": {
        "id": "eZ2x-amvohVF"
      }
    },
    {
      "cell_type": "code",
      "source": [
        "# attention layer\n",
        "\n",
        "class attention(Layer):\n",
        "    def __init__(self,**kwargs):\n",
        "        super(attention,self).__init__(**kwargs)\n",
        "\n",
        "    def build(self,input_shape):\n",
        "        self.W=self.add_weight(name='attention_weight', shape=(input_shape[-1],1),\n",
        "                               initializer='random_normal', trainable=True)\n",
        "        self.b=self.add_weight(name='attention_bias', shape=(input_shape[1],1),\n",
        "                               initializer='zeros', trainable=True)\n",
        "        super(attention, self).build(input_shape)\n",
        "\n",
        "    def call(self,x):\n",
        "        # Alignment scores. Pass them through tanh function\n",
        "        e = K.tanh(K.dot(x,self.W)+self.b)\n",
        "        # Remove dimension of size 1\n",
        "        e = K.squeeze(e, axis=-1)\n",
        "        # Compute the weights\n",
        "        alpha = K.softmax(e)\n",
        "        # Reshape to tensorFlow format\n",
        "        alpha = K.expand_dims(alpha, axis=-1)\n",
        "        # Compute the context vector\n",
        "        context = x * alpha\n",
        "        context = K.sum(context, axis=1)\n",
        "        return context"
      ],
      "metadata": {
        "id": "QrkHNibZoo1i"
      },
      "execution_count": null,
      "outputs": []
    },
    {
      "cell_type": "code",
      "source": [
        "x=Input(shape=X[0].shape)\n",
        "RNN_layer = GRU(100, return_sequences=True)(x)\n",
        "attention_layer = attention()(RNN_layer)\n",
        "outputs=Dense(len(encode_BOW), activation='softmax')(attention_layer)\n",
        "model=Model(x,outputs)\n",
        "\n",
        "model.compile(loss='SparseCategoricalCrossentropy',\n",
        "              optimizer='adam',\n",
        "              metrics = ['accuracy']\n",
        "              )\n",
        "\n",
        "model.summary()"
      ],
      "metadata": {
        "colab": {
          "base_uri": "https://localhost:8080/"
        },
        "id": "---G7PMQoybt",
        "outputId": "a6c780fa-a1b1-4857-e54e-70f45463d522"
      },
      "execution_count": null,
      "outputs": [
        {
          "output_type": "stream",
          "name": "stdout",
          "text": [
            "Model: \"model\"\n",
            "_________________________________________________________________\n",
            " Layer (type)                Output Shape              Param #   \n",
            "=================================================================\n",
            " input_1 (InputLayer)        [(None, 6, 50)]           0         \n",
            "                                                                 \n",
            " gru (GRU)                   (None, 6, 100)            45600     \n",
            "                                                                 \n",
            " attention (attention)       (None, 100)               106       \n",
            "                                                                 \n",
            " dense (Dense)               (None, 15938)             1609738   \n",
            "                                                                 \n",
            "=================================================================\n",
            "Total params: 1655444 (6.32 MB)\n",
            "Trainable params: 1655444 (6.32 MB)\n",
            "Non-trainable params: 0 (0.00 Byte)\n",
            "_________________________________________________________________\n"
          ]
        }
      ]
    },
    {
      "cell_type": "code",
      "source": [
        "tf.keras.utils.plot_model(model, show_shapes=True)"
      ],
      "metadata": {
        "colab": {
          "base_uri": "https://localhost:8080/",
          "height": 422
        },
        "id": "QMp376uho0w_",
        "outputId": "02d7133b-a035-45ef-c432-910a1d6cde79"
      },
      "execution_count": null,
      "outputs": [
        {
          "output_type": "execute_result",
          "data": {
            "image/png": "[encoded data removed]",
            "text/plain": [
              "<IPython.core.display.Image object>"
            ]
          },
          "metadata": {},
          "execution_count": 76
        }
      ]
    },
    {
      "cell_type": "markdown",
      "source": [
        "# Neural network: training"
      ],
      "metadata": {
        "id": "KJZg20yF5lHK"
      }
    },
    {
      "cell_type": "code",
      "source": [
        "model.fit(X_train, y_bow_train, epochs=5, batch_size=64, validation_split=.1)"
      ],
      "metadata": {
        "colab": {
          "base_uri": "https://localhost:8080/"
        },
        "id": "j_OcUo-l57QI",
        "outputId": "bf142348-f030-4efb-b49f-1ac9b44a50aa"
      },
      "execution_count": null,
      "outputs": [
        {
          "output_type": "stream",
          "name": "stdout",
          "text": [
            "Epoch 1/5\n",
            "29/29 [==============================] - 6s 107ms/step - loss: 9.4149 - accuracy: 0.0114 - val_loss: 8.8525 - val_accuracy: 0.0000e+00\n",
            "Epoch 2/5\n",
            "29/29 [==============================] - 2s 58ms/step - loss: 7.3081 - accuracy: 0.0282 - val_loss: 9.2813 - val_accuracy: 0.0195\n",
            "Epoch 3/5\n",
            "29/29 [==============================] - 2s 60ms/step - loss: 6.8389 - accuracy: 0.0337 - val_loss: 9.6283 - val_accuracy: 0.0195\n",
            "Epoch 4/5\n",
            "29/29 [==============================] - 2s 56ms/step - loss: 6.7647 - accuracy: 0.0337 - val_loss: 9.8689 - val_accuracy: 0.0195\n",
            "Epoch 5/5\n",
            "29/29 [==============================] - 2s 58ms/step - loss: 6.7430 - accuracy: 0.0337 - val_loss: 10.0440 - val_accuracy: 0.0195\n"
          ]
        },
        {
          "output_type": "execute_result",
          "data": {
            "text/plain": [
              "<keras.src.callbacks.History at 0x7c0bf03a33d0>"
            ]
          },
          "metadata": {},
          "execution_count": 77
        }
      ]
    },
    {
      "cell_type": "markdown",
      "source": [
        "## Simple prediction\n"
      ],
      "metadata": {
        "id": "y_UjVEChqxiv"
      }
    },
    {
      "cell_type": "code",
      "source": [
        "words = list(decode_BOW.keys())\n",
        "\n",
        "\n",
        "def predict_bow(sentence):\n",
        "  sentence = sentence.lower()\n",
        "  sentence_enc = []\n",
        "  for token in sentence.split():\n",
        "    try:\n",
        "      sentence_enc.append(word_model.wv[token])\n",
        "    except KeyError:\n",
        "      sentence_enc.append(np.zeros(50))\n",
        "  sentence_enc = np.array([sentence_enc])\n",
        "  predicted_probabilities = model.predict(sentence_enc, verbose=0)[0]\n",
        "\n",
        "  return decode_BOW[random.choices(words, weights=predicted_probabilities, k=1)[0]]"
      ],
      "metadata": {
        "id": "HpaGtDnTqfK0"
      },
      "execution_count": null,
      "outputs": []
    },
    {
      "cell_type": "code",
      "source": [
        "for _ in range(5):\n",
        "    sentence = 'He came to the conclusion that '\n",
        "    print(predict_bow(sentence))"
      ],
      "metadata": {
        "colab": {
          "base_uri": "https://localhost:8080/"
        },
        "id": "w6RCJPhhq9Sk",
        "outputId": "ed0b1ec1-bc7c-4803-e8bd-d66c379c08ff"
      },
      "execution_count": null,
      "outputs": [
        {
          "output_type": "stream",
          "name": "stdout",
          "text": [
            "becoming.\n",
            "agony.\n",
            "which\n",
            "look:\n",
            "trembled:\n"
          ]
        }
      ]
    },
    {
      "cell_type": "markdown",
      "source": [
        "# Neural network: prediction with temperature"
      ],
      "metadata": {
        "id": "-lPWODUg5mqS"
      }
    },
    {
      "cell_type": "code",
      "source": [
        "words = list(decode_BOW.keys())\n",
        "\n",
        "def apply_temperature(a, temperature=0.7):\n",
        "    # helper function to sample an index from a probability array\n",
        "    a = np.log(a) / temperature\n",
        "    a = np.exp(a) / np.sum(np.exp(a))\n",
        "    return a\n",
        "\n",
        "\n",
        "def predict_bow_with_temperature(sentence, temperature):\n",
        "  sentence = sentence.lower()\n",
        "  sentence_enc = []\n",
        "  for token in sentence.split():\n",
        "    try:\n",
        "      sentence_enc.append(word_model.wv[token])\n",
        "    except KeyError:\n",
        "      sentence_enc.append(np.zeros(50))\n",
        "  sentence_enc = np.array([sentence_enc])\n",
        "  predicted_probabilities = model.predict(sentence_enc, verbose=0)[0]\n",
        "\n",
        "  predicted_probabilities = apply_temperature(predicted_probabilities, temperature)\n",
        "\n",
        "  return decode_BOW[random.choices(words, weights=predicted_probabilities, k=1)[0]]"
      ],
      "metadata": {
        "id": "JML-dL46rtOD"
      },
      "execution_count": null,
      "outputs": []
    },
    {
      "cell_type": "code",
      "source": [
        "probabilities = [0.1, 0.2, 0.5]\n",
        "for i in range(10):\n",
        "    print(apply_temperature(probabilities, i))"
      ],
      "metadata": {
        "colab": {
          "base_uri": "https://localhost:8080/"
        },
        "id": "MUroYriKw0xF",
        "outputId": "64cf93f2-57db-4f38-9422-fc298ab4bccb"
      },
      "execution_count": null,
      "outputs": [
        {
          "output_type": "stream",
          "name": "stdout",
          "text": [
            "[nan nan nan]\n",
            "[0.125 0.25  0.625]\n",
            "[0.21504074 0.30411354 0.48084572]\n",
            "[0.2518957 0.3173687 0.4307356]\n",
            "[0.27140313 0.32275453 0.40584234]\n",
            "[0.28341233 0.32555528 0.3910324 ]\n",
            "[0.29153477 0.32723672 0.38122851]\n",
            "[0.29738995 0.32834512 0.37426493]\n",
            "[0.30180914 0.3291252  0.36906566]\n",
            "[0.30526215 0.32970136 0.3650365 ]\n"
          ]
        },
        {
          "output_type": "stream",
          "name": "stderr",
          "text": [
            "<ipython-input-80-1dbf34917c7b>:5: RuntimeWarning: divide by zero encountered in divide\n",
            "  a = np.log(a) / temperature\n",
            "<ipython-input-80-1dbf34917c7b>:6: RuntimeWarning: invalid value encountered in divide\n",
            "  a = np.exp(a) / np.sum(np.exp(a))\n"
          ]
        }
      ]
    },
    {
      "cell_type": "code",
      "source": [
        "for _ in range(5):\n",
        "    sentence = 'He came to the conclusion that '\n",
        "    print(predict_bow_with_temperature(sentence, 3))"
      ],
      "metadata": {
        "colab": {
          "base_uri": "https://localhost:8080/"
        },
        "id": "qhF0ExOnw3cI",
        "outputId": "64eb5912-7d58-45f7-bcc6-89f85b2baf67"
      },
      "execution_count": null,
      "outputs": [
        {
          "output_type": "stream",
          "name": "stdout",
          "text": [
            "always\n",
            "contrary.\n",
            "‘worlding’,\n",
            "undifferentiated.\n",
            "evening.\n"
          ]
        }
      ]
    },
    {
      "cell_type": "code",
      "source": [
        "def generator (sentence: str):\n",
        "\n",
        "  for i in range(10):\n",
        "    new_word = (predict_bow_with_temperature(' '.join(sentence.split()[i:]), 3))\n",
        "    sentence += ' ' + new_word\n",
        "\n",
        "  return sentence"
      ],
      "metadata": {
        "id": "HNEOZB4Jw8u1"
      },
      "execution_count": null,
      "outputs": []
    },
    {
      "cell_type": "code",
      "source": [
        "# one shot\n",
        "\n",
        "user_input = ''\n",
        "\n",
        "user_input = input(\"enter ONE word: \")\n",
        "\n",
        "print(generator(user_input))"
      ],
      "metadata": {
        "colab": {
          "base_uri": "https://localhost:8080/"
        },
        "id": "l3cxFFzXLWi9",
        "outputId": "eb4f078c-87f5-46eb-e81b-7a05f100327b"
      },
      "execution_count": null,
      "outputs": [
        {
          "output_type": "stream",
          "name": "stdout",
          "text": [
            "enter ONE word: pursuit\n",
            "pursuit here: why for. proved: Being, religion sources stale laugh: left.\n"
          ]
        }
      ]
    },
    {
      "cell_type": "markdown",
      "source": [
        "# Linguistic analysis\n",
        "\n",
        "In order to evaluate my answers linguistically, I will create an array with 10 generated answers, which will allow me to have more material to work with."
      ],
      "metadata": {
        "id": "NVTvSnjGDXyW"
      }
    },
    {
      "cell_type": "code",
      "source": [
        "samples = []\n",
        "\n",
        "for i in range(10):\n",
        "  user_input = ''\n",
        "  user_input = input(\"enter ONE word: \")\n",
        "  samples.append(generator(user_input))\n",
        "\n",
        "print()\n",
        "print(*samples, sep='\\n\\n')"
      ],
      "metadata": {
        "colab": {
          "base_uri": "https://localhost:8080/"
        },
        "id": "sEeJWAR6Kias",
        "outputId": "660f4ef4-3518-464c-e2c5-8e52fde2dd3d"
      },
      "execution_count": null,
      "outputs": [
        {
          "output_type": "stream",
          "name": "stdout",
          "text": [
            "enter ONE word: reject\n",
            "enter ONE word: implode\n",
            "enter ONE word: Pursue\n",
            "enter ONE word: imagination\n",
            "enter ONE word: Functionality\n",
            "enter ONE word: verification\n",
            "enter ONE word: Eagerly\n",
            "enter ONE word: ugly\n",
            "enter ONE word: Hopeful\n",
            "enter ONE word: beautiful\n",
            "\n",
            "reject object-state should, mention ‘alienation’, rejected, discontinuity negative). noema. Pastness, mist\n",
            "\n",
            "implode Sciences: on. characteristic—being-in-itself Khrushchev’s done. extended. research: Hegel, rapid (whether\n",
            "\n",
            "Pursue No Schlumberger. flabby solipsistic. concretely anarcho-syndicalists first fusion favorite Feuerbach,\n",
            "\n",
            "imagination pose anti-Semitic obscured laugh looked contributor exigencies everything, action, eyes?”\n",
            "\n",
            "Functionality Radice, formerly live: path row eloquence, spinning. fully. distant, action.\n",
            "\n",
            "verification bachelors, explained—which hand: holding Scouts: see. pair appreciation sides, collectives\n",
            "\n",
            "Eagerly telling changes! bundle bourgeois, writes, begs from, marry. linkage modification\n",
            "\n",
            "ugly saved. renew separates everywhere, stiffly, experience, rationalists “will.” distances.” burn,\n",
            "\n",
            "Hopeful “Once whim configuration, paradox: weaknesses. analogy.’ hypotheses. guaranteed winters, signs\n",
            "\n",
            "beautiful transitive. lesson Time execute become? Abschattungen. summer, Jew. simply: desired\n"
          ]
        }
      ]
    },
    {
      "cell_type": "markdown",
      "source": [
        "# Conclusion\n",
        "\n",
        "As you can see, I used the variety of parts of the speach: nouns, verbs, adverbs and adjectives.\n",
        "\n",
        "Additionally, I switched the case of the words to see how the NN would behave.\n",
        "\n",
        "Sometimes the connection of POS works, e.g. 'reject object-state', but I don't see the pattern of, let's say, preferrable POS for generation.\n",
        "\n",
        "The model definitely picked up the punctuation from the text, but not the letter capitalization or the length of the sentence in itself. They seem to be short. Maybe it's due to temperature being a bit too high.\n",
        "\n",
        "There are some German words appearing, it could be due to citing inside the books that I've missed, because citations at the end were deleted."
      ],
      "metadata": {
        "id": "tadLHLl7LhS0"
      }
    }
  ]
}